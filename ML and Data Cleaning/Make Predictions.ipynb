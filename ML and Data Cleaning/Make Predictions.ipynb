{
 "cells": [
  {
   "cell_type": "code",
   "execution_count": 1,
   "id": "5861b78e-c5b1-489e-8a79-8ca3816dd853",
   "metadata": {},
   "outputs": [],
   "source": [
    "import pandas as pd\n",
    "import numpy as np\n",
    "import pickle"
   ]
  },
  {
   "cell_type": "code",
   "execution_count": 2,
   "id": "4a9ab5a6-a1b3-4586-a34e-9cf4a63d4547",
   "metadata": {},
   "outputs": [],
   "source": [
    "# Load model\n",
    "model = pickle.load(open(\"black_money_model.h5\", 'rb'))"
   ]
  },
  {
   "cell_type": "code",
   "execution_count": 3,
   "id": "844f13bb-7efe-4fcd-aae8-d28541ea812a",
   "metadata": {},
   "outputs": [],
   "source": [
    "# numeric_features = ['amount_usd', 'risk_score', 'shell_co_involved']\n",
    "# binary_features = ['reported_by_authority']\n",
    "# categorical_features = ['transaction_type', 'industry']"
   ]
  },
  {
   "cell_type": "code",
   "execution_count": 4,
   "id": "9cb0cf40-4427-43b5-92fd-032fd8a9f4aa",
   "metadata": {},
   "outputs": [],
   "source": [
    "amount_usd = 3.440533e+06\n",
    "transaction_type = \"Cash Withdrawal\"\n",
    "industry = \"Real Estate\"\n",
    "reported_by_authority = False\n",
    "risk_score = 8\n",
    "shell_co_involved = 3"
   ]
  },
  {
   "cell_type": "code",
   "execution_count": 5,
   "id": "f01514b8-67e7-47bb-af95-85d6528847a7",
   "metadata": {},
   "outputs": [
    {
     "data": {
      "text/plain": [
       "array([[0.68746707, 0.31253293]])"
      ]
     },
     "execution_count": 5,
     "metadata": {},
     "output_type": "execute_result"
    }
   ],
   "source": [
    "df = pd.DataFrame()\n",
    "df[\"amount_usd\"] = [amount_usd]  # to display in 1 row, we need to wrap varible in a list [variable]\n",
    "df[\"transaction_type\"] = [transaction_type]\n",
    "df[\"industry\"] = [industry]\n",
    "df[\"reported_by_authority\"] = [reported_by_authority]\n",
    "df[\"risk_score\"] = [risk_score]\n",
    "df[\"shell_co_involved\"] = [shell_co_involved]\n",
    "preds = model.predict_proba(df)\n",
    "preds"
   ]
  },
  {
   "cell_type": "code",
   "execution_count": 6,
   "id": "d96f9fd9-c6c2-4b30-ae0c-323a704e4e80",
   "metadata": {},
   "outputs": [
    {
     "name": "stdout",
     "output_type": "stream",
     "text": [
      "0.3125329265891506 0.6874670734108494\n"
     ]
    }
   ],
   "source": [
    "legal_source_of_money = preds[0][1] # the 1st [0] b/c we only have one row of data. If multiple row => multiple inner list\n",
    "illegal_source_of_money = preds[0][0]\n",
    "\n",
    "print(legal_source_of_money, illegal_source_of_money)"
   ]
  },
  {
   "cell_type": "code",
   "execution_count": 7,
   "id": "3757146f-2ea5-41c1-a9a2-c8f02a7188d7",
   "metadata": {},
   "outputs": [],
   "source": [
    "# Note: instead of having SQL helper, we have a model helper class function below:\n",
    "\n",
    "def make_predictions(amount_usd, transaction_type, industry, reported_by_authority, risk_score, shell_co_involved): # list all variables here\n",
    "    df = pd.DataFrame()\n",
    "    df[\"amount_usd\"] = [amount_usd]  # to display in 1 row, we need to wrap varible in a list [variable]\n",
    "    df[\"transaction_type\"] = [transaction_type]\n",
    "    df[\"industry\"] = [industry]\n",
    "    df[\"reported_by_authority\"] = [reported_by_authority]\n",
    "    df[\"risk_score\"] = [risk_score]\n",
    "    df[\"shell_co_involved\"] = [shell_co_involved]\n",
    "\n",
    "    # Load model\n",
    "    model = pickle.load(open(\"black_money_model.h5\", 'rb'))\n",
    "    \n",
    "    preds = model.predict_proba(df)\n",
    "    legal_source_of_money = preds[0][1]\n",
    "\n",
    "    return(legal_source_of_money)"
   ]
  },
  {
   "cell_type": "code",
   "execution_count": 14,
   "id": "d76bf95f-2518-4c70-a5ea-eb0a56ee0895",
   "metadata": {},
   "outputs": [
    {
     "name": "stdout",
     "output_type": "stream",
     "text": [
      "0.3125329265891506\n",
      "We test the prediction of the illegal source of money is : 31.253%\n"
     ]
    }
   ],
   "source": [
    "# Test run: \n",
    "amount_usd = 3.440533e+06\n",
    "transaction_type = \"Cash Withdrawal\"\n",
    "industry = \"Real Estate\"\n",
    "reported_by_authority = False\n",
    "risk_score = 8\n",
    "shell_co_involved = 3\n",
    "\n",
    "test_prediction = make_predictions(amount_usd, transaction_type, industry, reported_by_authority, risk_score, shell_co_involved)\n",
    "percentage = test_prediction * 100\n",
    "print(test_prediction)\n",
    "print (f\"We test the prediction of the illegal source of money is : {percentage:.3f}%\")"
   ]
  },
  {
   "cell_type": "code",
   "execution_count": null,
   "id": "3803784d-54a9-4bbc-9d1c-cf638e2de629",
   "metadata": {},
   "outputs": [],
   "source": []
  }
 ],
 "metadata": {
  "kernelspec": {
   "display_name": "Python 3 (ipykernel)",
   "language": "python",
   "name": "python3"
  },
  "language_info": {
   "codemirror_mode": {
    "name": "ipython",
    "version": 3
   },
   "file_extension": ".py",
   "mimetype": "text/x-python",
   "name": "python",
   "nbconvert_exporter": "python",
   "pygments_lexer": "ipython3",
   "version": "3.10.16"
  }
 },
 "nbformat": 4,
 "nbformat_minor": 5
}
